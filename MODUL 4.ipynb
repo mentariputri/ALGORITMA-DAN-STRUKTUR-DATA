{
 "cells": [
  {
   "cell_type": "code",
   "execution_count": 2,
   "metadata": {},
   "outputs": [
    {
     "name": "stdout",
     "output_type": "stream",
     "text": [
      "hasil 8 + 10 = 18\n",
      "hasil 8 - 10 = -2\n"
     ]
    }
   ],
   "source": [
    "#OPERATOR ALGORITMA\n",
    "\n",
    "a= 8\n",
    "b= 10\n",
    "\n",
    "#menggunakan operator penjumlahan\n",
    "c= a+b\n",
    "print(\"hasil\",a,\"+\",b,\"=\",c)\n",
    "\n",
    "#operator pengurangan\n",
    "d= a-b\n",
    "print(\"hasil\",a,\"-\",b,\"=\",d)"
   ]
  },
  {
   "cell_type": "code",
   "execution_count": 1,
   "metadata": {},
   "outputs": [
    {
     "name": "stdout",
     "output_type": "stream",
     "text": [
      "10\n",
      "15\n",
      "10\n"
     ]
    }
   ],
   "source": [
    "#OPERATOR PENUGASAN\n",
    "a= 10 #contoh operator penugasan untuk mengisi nilai\n",
    "print(a)\n",
    "\n",
    "a += 5 #jumlahkan nilai a dengan operator penugasan untuk menjumlahkan\n",
    "\n",
    "# setelah nilai a ditambah 5, tampilkan isinya\n",
    "print(a)"
   ]
  },
  {
   "cell_type": "code",
   "execution_count": 6,
   "metadata": {},
   "outputs": [
    {
     "name": "stdout",
     "output_type": "stream",
     "text": [
      "apakah a sama dengan b: False\n",
      "apakah a lebih besar dari b: True\n"
     ]
    }
   ],
   "source": [
    "#OPERATOR PEMBANDING\n",
    "a= 10\n",
    "b= 5\n",
    "\n",
    "#apakah a sama dengan b?\n",
    "c= a==b\n",
    "print(\"apakah a sama dengan b:\",c)\n",
    "\n",
    "#apakah a lebih besar dari b?\n",
    "d= a>b\n",
    "print(\"apakah a lebih besar dari b:\",d)"
   ]
  },
  {
   "cell_type": "code",
   "execution_count": 10,
   "metadata": {},
   "outputs": [
    {
     "name": "stdout",
     "output_type": "stream",
     "text": [
      "False\n"
     ]
    }
   ],
   "source": [
    "#OPERATOR LOGIKA\n",
    "a = True\n",
    "b = False\n",
    "\n",
    "# Logika AND\n",
    "c = a and b\n",
    "print (c)"
   ]
  },
  {
   "cell_type": "code",
   "execution_count": 11,
   "metadata": {},
   "outputs": [
    {
     "name": "stdout",
     "output_type": "stream",
     "text": [
      "4\n"
     ]
    }
   ],
   "source": [
    "#OPERATOR BITWISE\n",
    "a= 4\n",
    "b= 5\n",
    "c= a&b\n",
    "print(c)\n",
    "\n",
    "#a= 0011111100\n",
    "#b= 00001101\n",
    "#a&b= 00001100"
   ]
  },
  {
   "cell_type": "code",
   "execution_count": 14,
   "metadata": {},
   "outputs": [
    {
     "name": "stdout",
     "output_type": "stream",
     "text": [
      "dewasa\n"
     ]
    }
   ],
   "source": [
    "#OPERASI TERNARY\n",
    "umur= 18\n",
    "aku= \"bocah\" if umur <10 else \"dewasa\"\n",
    "print(aku)"
   ]
  },
  {
   "cell_type": "code",
   "execution_count": 19,
   "metadata": {},
   "outputs": [
    {
     "name": "stdout",
     "output_type": "stream",
     "text": [
      "masukkan nama anda mentari putri\n",
      "nama anda adalah mentari putri\n"
     ]
    }
   ],
   "source": [
    "name= input(\"masukkan nama anda \")\n",
    "print (\"nama anda adalah\",name)"
   ]
  },
  {
   "cell_type": "code",
   "execution_count": 23,
   "metadata": {},
   "outputs": [
    {
     "name": "stdout",
     "output_type": "stream",
     "text": [
      "masukkan nilai alas 40\n",
      "masukkan nilai tinggi 30\n",
      "Luas segitiga  600.0\n"
     ]
    }
   ],
   "source": [
    "#mengambil data dari float/integer dari keyboard untuk variabel a dan t\n",
    "a= int(input(\"masukkan nilai alas \"))   #int bisa diganti float\n",
    "t= int(input(\"masukkan nilai tinggi \")) #int bisa diganti float\n",
    "\n",
    "L= 0.5*a*t\n",
    "print(\"Luas segitiga \",L)"
   ]
  }
 ],
 "metadata": {
  "kernelspec": {
   "display_name": "Python 3",
   "language": "python",
   "name": "python3"
  },
  "language_info": {
   "codemirror_mode": {
    "name": "ipython",
    "version": 3
   },
   "file_extension": ".py",
   "mimetype": "text/x-python",
   "name": "python",
   "nbconvert_exporter": "python",
   "pygments_lexer": "ipython3",
   "version": "3.8.3"
  }
 },
 "nbformat": 4,
 "nbformat_minor": 4
}
