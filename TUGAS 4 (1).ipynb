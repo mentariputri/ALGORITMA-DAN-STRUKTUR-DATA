{
 "cells": [
  {
   "cell_type": "code",
   "execution_count": 9,
   "metadata": {},
   "outputs": [
    {
     "name": "stdout",
     "output_type": "stream",
     "text": [
      "hasil 2 + 13 = 15\n",
      "hasil 2 - 13 = -11\n",
      "hasil 2 * 13 = 26\n",
      "hasil 2 / 13 = 0.15384615384615385\n",
      "hasil 2 % 13 = 2\n",
      "hasil 2 ** 13 = 8192\n"
     ]
    }
   ],
   "source": [
    "#Operator algoritma\n",
    "\n",
    "a= 2\n",
    "b= 13\n",
    "\n",
    "#menggunakan operator penjumlahan\n",
    "c= a+b\n",
    "print(\"hasil\",a,\"+\",b,\"=\",c)\n",
    "\n",
    "#menggunakan operator pengurangan\n",
    "c=a-b\n",
    "print(\"hasil\",a,\"-\",b,\"=\",c)\n",
    "\n",
    "#menggunakan operator perkalian\n",
    "c=a*b\n",
    "print(\"hasil\",a,\"*\",b,\"=\",c)\n",
    "\n",
    "#menggunakan operator pembagian\n",
    "c=a/b\n",
    "print(\"hasil\",a,\"/\",b,\"=\",c)\n",
    "\n",
    "#menggunakan operator sisa bagi\n",
    "c=a%b\n",
    "print(\"hasil\",a,\"%\",b,\"=\",c)\n",
    "\n",
    "#menggunakan operator pemangkatan\n",
    "c=a**b\n",
    "print(\"hasil\",a,\"**\",b,\"=\",c)"
   ]
  },
  {
   "cell_type": "code",
   "execution_count": 12,
   "metadata": {},
   "outputs": [
    {
     "name": "stdout",
     "output_type": "stream",
     "text": [
      "18\n",
      "28\n",
      "18\n",
      "180\n",
      "18.0\n",
      "8.0\n",
      "1073741824.0\n"
     ]
    }
   ],
   "source": [
    "#operator penugasan\n",
    "\n",
    "x = 18 #contoh penugasan untuk mengisi nilai\n",
    "print(x)\n",
    "\n",
    "x += 10 #jumlahkan nilai x dengan operator penugasan untuk menjumlahkan \n",
    "#setelah nilai x ditambah 10, tampilkan isinya\n",
    "print(x)\n",
    "\n",
    "x -= 10 #pengurangan nilai x\n",
    "#setelah nilai dikurangi 10, tampilkan isinya\n",
    "print(x)\n",
    "\n",
    "x *= 10 #perkalian nilai x\n",
    "#setelah nilai dikali 10, tampilkan isinya\n",
    "print(x)\n",
    "\n",
    "x /= 10 #pembagian nilai x\n",
    "#setelah nilai dibagi 10, tampilkan isinya\n",
    "print(x)\n",
    "\n",
    "x %= 10 #operator sisa bagi nilai x\n",
    "#setelah nilai dicetak, maka isinya\n",
    "print(x)\n",
    "\n",
    "x **= 10 #pemangkatan nilai x\n",
    "#setelah nilai x dipangkatkan, maka tampilkan\n",
    "print(x)"
   ]
  },
  {
   "cell_type": "code",
   "execution_count": 18,
   "metadata": {},
   "outputs": [
    {
     "name": "stdout",
     "output_type": "stream",
     "text": [
      "apakah x lebih besar dari y: True\n",
      "apakah x lebih kecil dari y: False\n",
      "apakah x sama dengan y: False\n",
      "apakah x tidak sama dengan y: True\n",
      "apakah x lebih besar sama dengan y: True\n",
      "apakah x lebih kecil sama dengan y: False\n"
     ]
    }
   ],
   "source": [
    "#operator pembanding\n",
    "\n",
    "x= 25\n",
    "y= 10\n",
    "\n",
    "#apakah x lebih besar dari b?\n",
    "p= x>y\n",
    "print(\"apakah x lebih besar dari y:\",p)\n",
    "\n",
    "#apakah x lebih kecil dari y?\n",
    "p= x<y\n",
    "print(\"apakah x lebih kecil dari y:\",p)\n",
    "\n",
    "#apakah x sama dengan y?\n",
    "p= x==y\n",
    "print(\"apakah x sama dengan y:\",p)\n",
    "\n",
    "#apakah x tidak sama dengan y?\n",
    "p= x!=y\n",
    "print(\"apakah x tidak sama dengan y:\",p)\n",
    "\n",
    "#apakah x lebih besar sama dengan y?\n",
    "p= x >= y\n",
    "print(\"apakah x lebih besar sama dengan y:\",p)\n",
    "\n",
    "# apakah x lebih kecil sama dengan y?\n",
    "p= x<y\n",
    "print(\"apakah x lebih kecil sama dengan y:\",p)"
   ]
  },
  {
   "cell_type": "code",
   "execution_count": 3,
   "metadata": {},
   "outputs": [
    {
     "name": "stdout",
     "output_type": "stream",
     "text": [
      "False\n",
      "True\n",
      "False\n"
     ]
    }
   ],
   "source": [
    "#Operator Logika\n",
    "a= True\n",
    "b= False\n",
    "\n",
    "#Logika AND\n",
    "c= a and b\n",
    "print(c)\n",
    "\n",
    "#Logika OR\n",
    "c= a or b\n",
    "print(c)\n",
    "\n",
    "#Negasi/kebalikan\n",
    "c= not a\n",
    "print(c)"
   ]
  },
  {
   "cell_type": "code",
   "execution_count": 5,
   "metadata": {},
   "outputs": [
    {
     "name": "stdout",
     "output_type": "stream",
     "text": [
      "masukan nama bayi :Mentari putri meyranita\n",
      "masukan berat badan bayi :3\n",
      "nama bayi adalah Mentari putri meyranita\n",
      "berat bayi dalam kg adalah 3.0 kg\n",
      "berat bayi dalam ons adalah  30.0 ons\n",
      "berat bayi 1 bulan kedepan harus ditambahkan 30 ons sehingga menjadi 60.0 ons\n"
     ]
    }
   ],
   "source": [
    "name= input(\"masukan nama bayi :\")\n",
    "weight_kg= float(input(\"masukan berat badan bayi :\"))\n",
    "weight_ons= weight_kg*10 #karena 1 kg = 10 ons\n",
    "weight= weight_ons+30\n",
    "\n",
    "print(\"nama bayi adalah\",name)\n",
    "print(\"berat bayi dalam kg adalah\", weight_kg,\"kg\")\n",
    "print(\"berat bayi dalam ons adalah \",weight_ons,\"ons\")\n",
    "print(\"berat bayi 1 bulan kedepan harus ditambahkan 30 ons sehingga menjadi\",weight,\"ons\")"
   ]
  }
 ],
 "metadata": {
  "kernelspec": {
   "display_name": "Python 3",
   "language": "python",
   "name": "python3"
  },
  "language_info": {
   "codemirror_mode": {
    "name": "ipython",
    "version": 3
   },
   "file_extension": ".py",
   "mimetype": "text/x-python",
   "name": "python",
   "nbconvert_exporter": "python",
   "pygments_lexer": "ipython3",
   "version": "3.8.3"
  }
 },
 "nbformat": 4,
 "nbformat_minor": 4
}
