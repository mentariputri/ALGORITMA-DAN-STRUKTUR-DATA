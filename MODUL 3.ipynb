{
 "cells": [
  {
   "cell_type": "code",
   "execution_count": 1,
   "metadata": {},
   "outputs": [
    {
     "name": "stdout",
     "output_type": "stream",
     "text": [
      "30\n",
      "3.14\n",
      "50\n",
      "ini variabel milik mentari putri\n",
      "ini variabel milik mentari putri adalah 50\n"
     ]
    }
   ],
   "source": [
    "var= 30\n",
    "phi= 3.14\n",
    "var2= 50\n",
    "variabel_saya=\"ini variabel milik mentari putri\"\n",
    "\n",
    "\n",
    "print(var)\n",
    "print(phi)\n",
    "print(var2)\n",
    "print(variabel_saya)\n",
    "print(variabel_saya,\"adalah\",var2)"
   ]
  },
  {
   "cell_type": "code",
   "execution_count": 4,
   "metadata": {},
   "outputs": [
    {
     "name": "stdout",
     "output_type": "stream",
     "text": [
      "Mentari Putri Meyranita\n",
      "Jln. Flores Baru 4 Perum. Pondok Martoloyo\n",
      "mendengarkan musik\n"
     ]
    }
   ],
   "source": [
    "nama= \"Mentari Putri Meyranita\"\n",
    "alamat= \"Jln. Flores Baru 4 Perum. Pondok Martoloyo\"\n",
    "Hobi= \"mendengarkan musik\"\n",
    "print(nama)\n",
    "print(alamat)\n",
    "print(Hobi)"
   ]
  },
  {
   "cell_type": "code",
   "execution_count": 8,
   "metadata": {},
   "outputs": [
    {
     "name": "stdout",
     "output_type": "stream",
     "text": [
      " putri  sangat  cantik \n"
     ]
    }
   ],
   "source": [
    "a= \" putri \"\n",
    "b= \" sangat \"\n",
    "c= \" cantik \"\n",
    "d= a + b + c\n",
    "print(d)"
   ]
  },
  {
   "cell_type": "code",
   "execution_count": 10,
   "metadata": {},
   "outputs": [
    {
     "name": "stdout",
     "output_type": "stream",
     "text": [
      "True\n"
     ]
    }
   ],
   "source": [
    "perbandingan = 5<10\n",
    "print(perbandingan)"
   ]
  }
 ],
 "metadata": {
  "kernelspec": {
   "display_name": "Python 3",
   "language": "python",
   "name": "python3"
  },
  "language_info": {
   "codemirror_mode": {
    "name": "ipython",
    "version": 3
   },
   "file_extension": ".py",
   "mimetype": "text/x-python",
   "name": "python",
   "nbconvert_exporter": "python",
   "pygments_lexer": "ipython3",
   "version": "3.8.3"
  }
 },
 "nbformat": 4,
 "nbformat_minor": 4
}
