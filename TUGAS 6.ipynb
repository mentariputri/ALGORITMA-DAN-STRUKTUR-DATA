{
 "cells": [
  {
   "cell_type": "code",
   "execution_count": 3,
   "metadata": {},
   "outputs": [
    {
     "name": "stdout",
     "output_type": "stream",
     "text": [
      "berapa nilai kamu?100\n"
     ]
    }
   ],
   "source": [
    "nilai = int(input(\"berapa nilai kamu?\"))\n",
    "\n",
    "if nilai <70:\n",
    "    print(\"kamu harus ikut remidi\")"
   ]
  },
  {
   "cell_type": "code",
   "execution_count": 4,
   "metadata": {},
   "outputs": [
    {
     "name": "stdout",
     "output_type": "stream",
     "text": [
      "berapa nilai kamu?60\n",
      "kamu harus remidi\n"
     ]
    }
   ],
   "source": [
    "nilai = int(input(\"berapa nilai kamu?\"))\n",
    "\n",
    "if nilai <70:\n",
    "    print(\"kamu harus remidi\")"
   ]
  },
  {
   "cell_type": "code",
   "execution_count": null,
   "metadata": {},
   "outputs": [],
   "source": [
    "r = int(input(\"masukan jari-jari\"))\n",
    "L = 3.14*r*r\n",
    "\n"
   ]
  },
  {
   "cell_type": "code",
   "execution_count": 1,
   "metadata": {},
   "outputs": [
    {
     "name": "stdout",
     "output_type": "stream",
     "text": [
      "masukkan nomor program2\n",
      "masukkan s20\n",
      "volume kubus adalah =  8000\n"
     ]
    }
   ],
   "source": [
    "#elif\n",
    "\n",
    "def nomor_1():\n",
    "    p = int(input(\"masukkan panjang \"))\n",
    "    l = int(input(\"masukkan lebar\"))\n",
    "    t = int(input(\"masukkan tinggi\"))\n",
    "    V_balok = p*l*t\n",
    "    print(\"volume balok adalah = \", V_balok)\n",
    "def nomor_2():\n",
    "    s = int(input(\"masukkan s\"))\n",
    "    V_kubus = s*s*s\n",
    "    print(\"volume kubus adalah = \", V_kubus)\n",
    "    \n",
    "program = int(input(\"masukkan nomor program\"))\n",
    "\n",
    "if program == 1:\n",
    "    nomor_1()\n",
    "elif program == 2:\n",
    "    nomor_2()\n",
    "else:\n",
    "    print(\"program tidak tersedia\")"
   ]
  },
  {
   "cell_type": "code",
   "execution_count": null,
   "metadata": {},
   "outputs": [],
   "source": []
  }
 ],
 "metadata": {
  "kernelspec": {
   "display_name": "Python 3",
   "language": "python",
   "name": "python3"
  },
  "language_info": {
   "codemirror_mode": {
    "name": "ipython",
    "version": 3
   },
   "file_extension": ".py",
   "mimetype": "text/x-python",
   "name": "python",
   "nbconvert_exporter": "python",
   "pygments_lexer": "ipython3",
   "version": "3.8.3"
  }
 },
 "nbformat": 4,
 "nbformat_minor": 4
}
