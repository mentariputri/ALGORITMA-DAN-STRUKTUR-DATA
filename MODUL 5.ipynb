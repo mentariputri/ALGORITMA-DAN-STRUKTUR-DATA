{
 "cells": [
  {
   "cell_type": "code",
   "execution_count": 1,
   "metadata": {},
   "outputs": [
    {
     "name": "stdout",
     "output_type": "stream",
     "text": [
      "Hi, my name is mentari putri\n",
      "Hi, my name is mentari putri\n"
     ]
    }
   ],
   "source": [
    "def biodata() :\n",
    "    print(\"Hi, my name is mentari putri\")\n",
    "biodata()\n",
    "biodata()"
   ]
  },
  {
   "cell_type": "code",
   "execution_count": 2,
   "metadata": {},
   "outputs": [
    {
     "name": "stdout",
     "output_type": "stream",
     "text": [
      "happy birthday and many happy returns\n"
     ]
    }
   ],
   "source": [
    "def ucapan(ulangtahun):\n",
    "    print(ulangtahun)\n",
    "    \n",
    "ucapan(\"happy birthday and many happy returns\")"
   ]
  },
  {
   "cell_type": "code",
   "execution_count": 3,
   "metadata": {},
   "outputs": [
    {
     "name": "stdout",
     "output_type": "stream",
     "text": [
      "luas segitiga adalah 10.0\n"
     ]
    }
   ],
   "source": [
    "def luas_segitiga(alas,tinggi):\n",
    "    luas=(alas*tinggi)/2\n",
    "    print(\"luas segitiga adalah\",luas)\n",
    "luas_segitiga(5,4)"
   ]
  },
  {
   "cell_type": "code",
   "execution_count": 7,
   "metadata": {},
   "outputs": [
    {
     "name": "stdout",
     "output_type": "stream",
     "text": [
      "luas persegi 36\n"
     ]
    }
   ],
   "source": [
    "def luas_persegi(sisi):\n",
    "    luas=sisi*sisi\n",
    "    return luas\n",
    "\n",
    "print(\"luas persegi\",luas_persegi(6))"
   ]
  },
  {
   "cell_type": "code",
   "execution_count": 10,
   "metadata": {},
   "outputs": [
    {
     "name": "stdout",
     "output_type": "stream",
     "text": [
      "luas persegi 36\n",
      "volume kubus 125\n"
     ]
    }
   ],
   "source": [
    "def luas_persegi(sisi):\n",
    "    luas=sisi*sisi\n",
    "    return luas\n",
    "\n",
    "def volume_kubus(sisi):\n",
    "    volume=luas_persegi(sisi)*sisi\n",
    "    return volume\n",
    "\n",
    "print(\"luas persegi\",luas_persegi(6))\n",
    "print(\"volume kubus\",volume_kubus(5))"
   ]
  },
  {
   "cell_type": "code",
   "execution_count": null,
   "metadata": {},
   "outputs": [],
   "source": []
  }
 ],
 "metadata": {
  "kernelspec": {
   "display_name": "Python 3",
   "language": "python",
   "name": "python3"
  },
  "language_info": {
   "codemirror_mode": {
    "name": "ipython",
    "version": 3
   },
   "file_extension": ".py",
   "mimetype": "text/x-python",
   "name": "python",
   "nbconvert_exporter": "python",
   "pygments_lexer": "ipython3",
   "version": "3.8.3"
  }
 },
 "nbformat": 4,
 "nbformat_minor": 4
}
