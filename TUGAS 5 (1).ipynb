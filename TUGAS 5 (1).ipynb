{
 "cells": [
  {
   "cell_type": "code",
   "execution_count": 1,
   "metadata": {},
   "outputs": [
    {
     "name": "stdout",
     "output_type": "stream",
     "text": [
      "i like programming\n",
      "because i proud to make something new\n"
     ]
    }
   ],
   "source": [
    "#nama mentari\n",
    "\n",
    "def function_1(): #fungsi 1\n",
    "    print(\"because i proud to make something new\")\n",
    "def function_2(): #fungsi 2\n",
    "    print(\"i like programming\")\n",
    "#pemanggilan fungsi 2\n",
    "function_2()\n",
    "#pemanggilan fungsi 1\n",
    "function_1()"
   ]
  },
  {
   "cell_type": "code",
   "execution_count": 3,
   "metadata": {},
   "outputs": [
    {
     "name": "stdout",
     "output_type": "stream",
     "text": [
      "nama saya adalah mentari putri\n",
      "perkenalkan nama saya adalah mentari putri dari tegal\n",
      "luas persegi panjang adalah 24\n"
     ]
    }
   ],
   "source": [
    "#nama mentari putri\n",
    "\n",
    "def fungsi_1():\n",
    "    nama= input(\"nama saya adalah \")\n",
    "    print(\"perkenalkan nama saya adalah\",nama,\"dari tegal\")\n",
    "def luas_persegi_panjang(panjang,lebar):\n",
    "    luas=(panjang*lebar)\n",
    "    print(\"luas persegi panjang adalah\",luas)\n",
    "fungsi_1()\n",
    "luas_persegi_panjang(4,6)"
   ]
  },
  {
   "cell_type": "code",
   "execution_count": 7,
   "metadata": {},
   "outputs": [
    {
     "name": "stdout",
     "output_type": "stream",
     "text": [
      "luas persegi panjang 20\n",
      "volume kubus 96\n"
     ]
    }
   ],
   "source": [
    "#nama mentari putri\n",
    "\n",
    "def luas_persegi_panjang(panjang,lebar):\n",
    "    luas= panjang*lebar\n",
    "    return luas\n",
    "\n",
    "def volume_kubus(panjang,lebar,tinggi):\n",
    "    volume= panjang*lebar*tinggi\n",
    "    return volume\n",
    "print(\"luas persegi panjang\",luas_persegi_panjang(5,4))\n",
    "print(\"volume kubus\", volume_kubus(8,4,3))"
   ]
  },
  {
   "cell_type": "code",
   "execution_count": 2,
   "metadata": {},
   "outputs": [
    {
     "name": "stdout",
     "output_type": "stream",
     "text": [
      "masukan angka pertama 8\n",
      "masukan angka kedua 6\n",
      "angka pertama sama dengan angka kedua adalah False\n",
      "angka pertama lebih besar daripada angka kedua True\n"
     ]
    }
   ],
   "source": [
    "#fungsi,input,operator logika\n",
    "angka_1 = float(input(\"masukan angka pertama \"))\n",
    "angka_2 = float(input(\"masukan angka kedua \"))\n",
    "\n",
    "def fungsi_operator1():\n",
    "    operator1= angka_1==angka_2\n",
    "    print(\"angka pertama sama dengan angka kedua adalah\",operator1)\n",
    "def fungsi_operator2():\n",
    "    operator2= angka_1>angka_2\n",
    "    print(\"angka pertama lebih besar daripada angka kedua\",operator2)\n",
    "fungsi_operator1()\n",
    "fungsi_operator2()"
   ]
  },
  {
   "cell_type": "code",
   "execution_count": null,
   "metadata": {},
   "outputs": [],
   "source": []
  }
 ],
 "metadata": {
  "kernelspec": {
   "display_name": "Python 3",
   "language": "python",
   "name": "python3"
  },
  "language_info": {
   "codemirror_mode": {
    "name": "ipython",
    "version": 3
   },
   "file_extension": ".py",
   "mimetype": "text/x-python",
   "name": "python",
   "nbconvert_exporter": "python",
   "pygments_lexer": "ipython3",
   "version": "3.8.3"
  }
 },
 "nbformat": 4,
 "nbformat_minor": 4
}
