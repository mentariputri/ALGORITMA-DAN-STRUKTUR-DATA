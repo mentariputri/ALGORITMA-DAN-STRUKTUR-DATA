{
 "cells": [
  {
   "cell_type": "code",
   "execution_count": 2,
   "metadata": {},
   "outputs": [
    {
     "name": "stdout",
     "output_type": "stream",
     "text": [
      "apakah kamu lulus? [ya/tidak]: ya\n"
     ]
    }
   ],
   "source": [
    "lulus = input(\"apakah kamu lulus? [ya/tidak]: \")\n",
    "\n",
    "if lulus == \"tidak\":\n",
    "    print(\"kamu harus ikut remidi\")"
   ]
  },
  {
   "cell_type": "code",
   "execution_count": 3,
   "metadata": {},
   "outputs": [
    {
     "name": "stdout",
     "output_type": "stream",
     "text": [
      "apakah kamu lulus atau tidak? [ya/tidak]: tidak\n",
      "kamu harus ikut remidi\n"
     ]
    }
   ],
   "source": [
    "lulus = input(\"apakah kamu lulus atau tidak? [ya/tidak]: \")\n",
    "\n",
    "if lulus == \"tidak\":\n",
    "    print(\"kamu harus ikut remidi\")"
   ]
  },
  {
   "cell_type": "code",
   "execution_count": 5,
   "metadata": {},
   "outputs": [
    {
     "name": "stdout",
     "output_type": "stream",
     "text": [
      "input usia 18\n",
      "silahkan menonton\n"
     ]
    }
   ],
   "source": [
    "umur = int(input(\"input usia \"))\n",
    "\n",
    "if umur >=18:\n",
    "    print(\"silahkan menonton\")\n",
    "else:\n",
    "    print(\"anda tidak boleh menonton\")"
   ]
  },
  {
   "cell_type": "code",
   "execution_count": null,
   "metadata": {},
   "outputs": [],
   "source": []
  }
 ],
 "metadata": {
  "kernelspec": {
   "display_name": "Python 3",
   "language": "python",
   "name": "python3"
  },
  "language_info": {
   "codemirror_mode": {
    "name": "ipython",
    "version": 3
   },
   "file_extension": ".py",
   "mimetype": "text/x-python",
   "name": "python",
   "nbconvert_exporter": "python",
   "pygments_lexer": "ipython3",
   "version": "3.8.3"
  }
 },
 "nbformat": 4,
 "nbformat_minor": 4
}
